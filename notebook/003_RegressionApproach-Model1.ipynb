{
 "cells": [
  {
   "cell_type": "markdown",
   "id": "ffc4117d",
   "metadata": {},
   "source": [
    "## Linear Regression Approach\n",
    "***"
   ]
  },
  {
   "cell_type": "markdown",
   "id": "aa2a0684",
   "metadata": {},
   "source": [
    "### 1. Importing Libraries"
   ]
  },
  {
   "cell_type": "code",
   "execution_count": 24,
   "id": "76030ed9",
   "metadata": {},
   "outputs": [],
   "source": [
    "import numpy as np\n",
    "import pandas as pd\n",
    "from sklearn.preprocessing import LabelEncoder\n",
    "import matplotlib.pyplot as plt\n",
    "from pathlib import Path\n",
    "import seaborn as sns"
   ]
  },
  {
   "cell_type": "code",
   "execution_count": 25,
   "id": "a1204de8",
   "metadata": {},
   "outputs": [],
   "source": [
    "%matplotlib inline"
   ]
  },
  {
   "cell_type": "markdown",
   "id": "a45a32a7",
   "metadata": {},
   "source": [
    "### 2. Load OSIC Tabular Data"
   ]
  },
  {
   "cell_type": "code",
   "execution_count": 26,
   "id": "25ce44fe",
   "metadata": {},
   "outputs": [],
   "source": [
    "patient_data = pd.read_csv('../data/osic-pulmonary-fibrosis-progression/train.csv')"
   ]
  },
  {
   "cell_type": "code",
   "execution_count": 27,
   "id": "20dee60d",
   "metadata": {},
   "outputs": [
    {
     "data": {
      "text/plain": [
       "(1549, 7)"
      ]
     },
     "execution_count": 27,
     "metadata": {},
     "output_type": "execute_result"
    }
   ],
   "source": [
    "patient_data.shape"
   ]
  },
  {
   "cell_type": "code",
   "execution_count": 28,
   "id": "31fa8991",
   "metadata": {},
   "outputs": [
    {
     "data": {
      "text/plain": [
       "Index(['Patient', 'Weeks', 'FVC', 'Percent', 'Age', 'Sex', 'SmokingStatus'], dtype='object')"
      ]
     },
     "execution_count": 28,
     "metadata": {},
     "output_type": "execute_result"
    }
   ],
   "source": [
    "patient_data.columns"
   ]
  },
  {
   "cell_type": "code",
   "execution_count": 29,
   "id": "ea8572be",
   "metadata": {},
   "outputs": [
    {
     "data": {
      "text/html": [
       "<div>\n",
       "<style scoped>\n",
       "    .dataframe tbody tr th:only-of-type {\n",
       "        vertical-align: middle;\n",
       "    }\n",
       "\n",
       "    .dataframe tbody tr th {\n",
       "        vertical-align: top;\n",
       "    }\n",
       "\n",
       "    .dataframe thead th {\n",
       "        text-align: right;\n",
       "    }\n",
       "</style>\n",
       "<table border=\"1\" class=\"dataframe\">\n",
       "  <thead>\n",
       "    <tr style=\"text-align: right;\">\n",
       "      <th></th>\n",
       "      <th>Patient</th>\n",
       "      <th>Weeks</th>\n",
       "      <th>FVC</th>\n",
       "      <th>Percent</th>\n",
       "      <th>Age</th>\n",
       "      <th>Sex</th>\n",
       "      <th>SmokingStatus</th>\n",
       "    </tr>\n",
       "  </thead>\n",
       "  <tbody>\n",
       "    <tr>\n",
       "      <th>0</th>\n",
       "      <td>ID00007637202177411956430</td>\n",
       "      <td>-4</td>\n",
       "      <td>2315</td>\n",
       "      <td>58.253649</td>\n",
       "      <td>79</td>\n",
       "      <td>Male</td>\n",
       "      <td>Ex-smoker</td>\n",
       "    </tr>\n",
       "    <tr>\n",
       "      <th>1</th>\n",
       "      <td>ID00007637202177411956430</td>\n",
       "      <td>5</td>\n",
       "      <td>2214</td>\n",
       "      <td>55.712129</td>\n",
       "      <td>79</td>\n",
       "      <td>Male</td>\n",
       "      <td>Ex-smoker</td>\n",
       "    </tr>\n",
       "    <tr>\n",
       "      <th>2</th>\n",
       "      <td>ID00007637202177411956430</td>\n",
       "      <td>7</td>\n",
       "      <td>2061</td>\n",
       "      <td>51.862104</td>\n",
       "      <td>79</td>\n",
       "      <td>Male</td>\n",
       "      <td>Ex-smoker</td>\n",
       "    </tr>\n",
       "    <tr>\n",
       "      <th>3</th>\n",
       "      <td>ID00007637202177411956430</td>\n",
       "      <td>9</td>\n",
       "      <td>2144</td>\n",
       "      <td>53.950679</td>\n",
       "      <td>79</td>\n",
       "      <td>Male</td>\n",
       "      <td>Ex-smoker</td>\n",
       "    </tr>\n",
       "    <tr>\n",
       "      <th>4</th>\n",
       "      <td>ID00007637202177411956430</td>\n",
       "      <td>11</td>\n",
       "      <td>2069</td>\n",
       "      <td>52.063412</td>\n",
       "      <td>79</td>\n",
       "      <td>Male</td>\n",
       "      <td>Ex-smoker</td>\n",
       "    </tr>\n",
       "  </tbody>\n",
       "</table>\n",
       "</div>"
      ],
      "text/plain": [
       "                     Patient  Weeks   FVC    Percent  Age   Sex SmokingStatus\n",
       "0  ID00007637202177411956430     -4  2315  58.253649   79  Male     Ex-smoker\n",
       "1  ID00007637202177411956430      5  2214  55.712129   79  Male     Ex-smoker\n",
       "2  ID00007637202177411956430      7  2061  51.862104   79  Male     Ex-smoker\n",
       "3  ID00007637202177411956430      9  2144  53.950679   79  Male     Ex-smoker\n",
       "4  ID00007637202177411956430     11  2069  52.063412   79  Male     Ex-smoker"
      ]
     },
     "execution_count": 29,
     "metadata": {},
     "output_type": "execute_result"
    }
   ],
   "source": [
    "patient_data.head()"
   ]
  },
  {
   "cell_type": "markdown",
   "id": "2b717a20",
   "metadata": {},
   "source": [
    "### 3. Preprocessing"
   ]
  },
  {
   "cell_type": "code",
   "execution_count": 30,
   "id": "96cc8ad4",
   "metadata": {},
   "outputs": [
    {
     "data": {
      "text/plain": [
       "(1535, 7)"
      ]
     },
     "execution_count": 30,
     "metadata": {},
     "output_type": "execute_result"
    }
   ],
   "source": [
    "# Dropping duplicate records in th train data\n",
    "patient_data.drop_duplicates(subset=['Patient', 'Weeks'], keep=False, inplace=True)\n",
    "patient_data.shape"
   ]
  },
  {
   "cell_type": "markdown",
   "id": "a88d19f7",
   "metadata": {},
   "source": [
    "#### 3.1 Encoding categorical columns [ 'Sex', 'SmokingStatus']\n",
    "- Sex { Male:1 | Female:0 }\n",
    "- SmokingStatus { Ex-smoker:1 | Never smoked:2 | Currently smokes:0 }"
   ]
  },
  {
   "cell_type": "code",
   "execution_count": 31,
   "id": "ef9c3aad",
   "metadata": {},
   "outputs": [],
   "source": [
    "le = LabelEncoder()\n",
    "\n",
    "# Encoding 'Sex' column in Patient data\n",
    "patient_data['Sex'] = le.fit_transform(patient_data['Sex'])\n",
    "\n",
    "# Encoding 'SmokingStatus' column Patient data\n",
    "patient_data['SmokingStatus'] = le.fit_transform(patient_data['SmokingStatus'])"
   ]
  },
  {
   "cell_type": "code",
   "execution_count": 32,
   "id": "2c6002c5",
   "metadata": {},
   "outputs": [
    {
     "data": {
      "text/html": [
       "<div>\n",
       "<style scoped>\n",
       "    .dataframe tbody tr th:only-of-type {\n",
       "        vertical-align: middle;\n",
       "    }\n",
       "\n",
       "    .dataframe tbody tr th {\n",
       "        vertical-align: top;\n",
       "    }\n",
       "\n",
       "    .dataframe thead th {\n",
       "        text-align: right;\n",
       "    }\n",
       "</style>\n",
       "<table border=\"1\" class=\"dataframe\">\n",
       "  <thead>\n",
       "    <tr style=\"text-align: right;\">\n",
       "      <th></th>\n",
       "      <th>Patient</th>\n",
       "      <th>Weeks</th>\n",
       "      <th>FVC</th>\n",
       "      <th>Percent</th>\n",
       "      <th>Age</th>\n",
       "      <th>Sex</th>\n",
       "      <th>SmokingStatus</th>\n",
       "    </tr>\n",
       "  </thead>\n",
       "  <tbody>\n",
       "    <tr>\n",
       "      <th>0</th>\n",
       "      <td>ID00007637202177411956430</td>\n",
       "      <td>-4</td>\n",
       "      <td>2315</td>\n",
       "      <td>58.253649</td>\n",
       "      <td>79</td>\n",
       "      <td>1</td>\n",
       "      <td>1</td>\n",
       "    </tr>\n",
       "    <tr>\n",
       "      <th>1</th>\n",
       "      <td>ID00007637202177411956430</td>\n",
       "      <td>5</td>\n",
       "      <td>2214</td>\n",
       "      <td>55.712129</td>\n",
       "      <td>79</td>\n",
       "      <td>1</td>\n",
       "      <td>1</td>\n",
       "    </tr>\n",
       "    <tr>\n",
       "      <th>2</th>\n",
       "      <td>ID00007637202177411956430</td>\n",
       "      <td>7</td>\n",
       "      <td>2061</td>\n",
       "      <td>51.862104</td>\n",
       "      <td>79</td>\n",
       "      <td>1</td>\n",
       "      <td>1</td>\n",
       "    </tr>\n",
       "    <tr>\n",
       "      <th>3</th>\n",
       "      <td>ID00007637202177411956430</td>\n",
       "      <td>9</td>\n",
       "      <td>2144</td>\n",
       "      <td>53.950679</td>\n",
       "      <td>79</td>\n",
       "      <td>1</td>\n",
       "      <td>1</td>\n",
       "    </tr>\n",
       "    <tr>\n",
       "      <th>4</th>\n",
       "      <td>ID00007637202177411956430</td>\n",
       "      <td>11</td>\n",
       "      <td>2069</td>\n",
       "      <td>52.063412</td>\n",
       "      <td>79</td>\n",
       "      <td>1</td>\n",
       "      <td>1</td>\n",
       "    </tr>\n",
       "  </tbody>\n",
       "</table>\n",
       "</div>"
      ],
      "text/plain": [
       "                     Patient  Weeks   FVC    Percent  Age  Sex  SmokingStatus\n",
       "0  ID00007637202177411956430     -4  2315  58.253649   79    1              1\n",
       "1  ID00007637202177411956430      5  2214  55.712129   79    1              1\n",
       "2  ID00007637202177411956430      7  2061  51.862104   79    1              1\n",
       "3  ID00007637202177411956430      9  2144  53.950679   79    1              1\n",
       "4  ID00007637202177411956430     11  2069  52.063412   79    1              1"
      ]
     },
     "execution_count": 32,
     "metadata": {},
     "output_type": "execute_result"
    }
   ],
   "source": [
    "patient_data.head()"
   ]
  },
  {
   "cell_type": "code",
   "execution_count": 33,
   "id": "49689d80",
   "metadata": {},
   "outputs": [
    {
     "data": {
      "text/plain": [
       "1    1212\n",
       "0     323\n",
       "Name: Sex, dtype: int64"
      ]
     },
     "execution_count": 33,
     "metadata": {},
     "output_type": "execute_result"
    }
   ],
   "source": [
    "patient_data['Sex'].value_counts()"
   ]
  },
  {
   "cell_type": "code",
   "execution_count": 34,
   "id": "e4bb9fd8",
   "metadata": {},
   "outputs": [
    {
     "data": {
      "text/plain": [
       "1    1030\n",
       "2     423\n",
       "0      82\n",
       "Name: SmokingStatus, dtype: int64"
      ]
     },
     "execution_count": 34,
     "metadata": {},
     "output_type": "execute_result"
    }
   ],
   "source": [
    "patient_data['SmokingStatus'].value_counts()"
   ]
  },
  {
   "cell_type": "markdown",
   "id": "1d375064",
   "metadata": {},
   "source": [
    "#### 3.2 Transforming Patient data w.r.to 1st week's measurement\n",
    "- Each of the patient's measurements will be appended by 1st week's measurements\n",
    "- New schema of the dataframe- ['PatientID', 'first_week', 'first_FVC',\t'Age',\t'Sex',\t'SmokingStatus',\t'target_week',\t'target_FVC']"
   ]
  },
  {
   "cell_type": "code",
   "execution_count": 35,
   "id": "c09ca65c",
   "metadata": {},
   "outputs": [
    {
     "data": {
      "text/html": [
       "<div>\n",
       "<style scoped>\n",
       "    .dataframe tbody tr th:only-of-type {\n",
       "        vertical-align: middle;\n",
       "    }\n",
       "\n",
       "    .dataframe tbody tr th {\n",
       "        vertical-align: top;\n",
       "    }\n",
       "\n",
       "    .dataframe thead th {\n",
       "        text-align: right;\n",
       "    }\n",
       "</style>\n",
       "<table border=\"1\" class=\"dataframe\">\n",
       "  <thead>\n",
       "    <tr style=\"text-align: right;\">\n",
       "      <th></th>\n",
       "      <th>PatientID</th>\n",
       "      <th>first_week</th>\n",
       "      <th>first_FVC</th>\n",
       "      <th>first_Percent</th>\n",
       "      <th>Age</th>\n",
       "      <th>Sex</th>\n",
       "      <th>SmokingStatus</th>\n",
       "      <th>target_week</th>\n",
       "      <th>target_FVC</th>\n",
       "    </tr>\n",
       "  </thead>\n",
       "  <tbody>\n",
       "    <tr>\n",
       "      <th>0</th>\n",
       "      <td>ID00007637202177411956430</td>\n",
       "      <td>-4</td>\n",
       "      <td>2315</td>\n",
       "      <td>58.253649</td>\n",
       "      <td>79</td>\n",
       "      <td>1</td>\n",
       "      <td>1</td>\n",
       "      <td>5</td>\n",
       "      <td>2315</td>\n",
       "    </tr>\n",
       "    <tr>\n",
       "      <th>1</th>\n",
       "      <td>ID00007637202177411956430</td>\n",
       "      <td>-4</td>\n",
       "      <td>2315</td>\n",
       "      <td>58.253649</td>\n",
       "      <td>79</td>\n",
       "      <td>1</td>\n",
       "      <td>1</td>\n",
       "      <td>7</td>\n",
       "      <td>2214</td>\n",
       "    </tr>\n",
       "    <tr>\n",
       "      <th>2</th>\n",
       "      <td>ID00007637202177411956430</td>\n",
       "      <td>-4</td>\n",
       "      <td>2315</td>\n",
       "      <td>58.253649</td>\n",
       "      <td>79</td>\n",
       "      <td>1</td>\n",
       "      <td>1</td>\n",
       "      <td>9</td>\n",
       "      <td>2061</td>\n",
       "    </tr>\n",
       "    <tr>\n",
       "      <th>3</th>\n",
       "      <td>ID00007637202177411956430</td>\n",
       "      <td>-4</td>\n",
       "      <td>2315</td>\n",
       "      <td>58.253649</td>\n",
       "      <td>79</td>\n",
       "      <td>1</td>\n",
       "      <td>1</td>\n",
       "      <td>11</td>\n",
       "      <td>2144</td>\n",
       "    </tr>\n",
       "    <tr>\n",
       "      <th>4</th>\n",
       "      <td>ID00007637202177411956430</td>\n",
       "      <td>-4</td>\n",
       "      <td>2315</td>\n",
       "      <td>58.253649</td>\n",
       "      <td>79</td>\n",
       "      <td>1</td>\n",
       "      <td>1</td>\n",
       "      <td>17</td>\n",
       "      <td>2069</td>\n",
       "    </tr>\n",
       "  </tbody>\n",
       "</table>\n",
       "</div>"
      ],
      "text/plain": [
       "                   PatientID  first_week  first_FVC  first_Percent  Age  Sex  \\\n",
       "0  ID00007637202177411956430          -4       2315      58.253649   79    1   \n",
       "1  ID00007637202177411956430          -4       2315      58.253649   79    1   \n",
       "2  ID00007637202177411956430          -4       2315      58.253649   79    1   \n",
       "3  ID00007637202177411956430          -4       2315      58.253649   79    1   \n",
       "4  ID00007637202177411956430          -4       2315      58.253649   79    1   \n",
       "\n",
       "   SmokingStatus  target_week  target_FVC  \n",
       "0              1            5        2315  \n",
       "1              1            7        2214  \n",
       "2              1            9        2061  \n",
       "3              1           11        2144  \n",
       "4              1           17        2069  "
      ]
     },
     "execution_count": 35,
     "metadata": {},
     "output_type": "execute_result"
    }
   ],
   "source": [
    "# create training data\n",
    "data_point = []\n",
    "\n",
    "# itrating through the train data and appening each measurement w.r.to 1st week's measurement\n",
    "for p in patient_data['Patient'].unique():\n",
    "    patientData = patient_data[patient_data['Patient'] == p]\n",
    "    firstMeasure = list(patientData.iloc[0, :].values)\n",
    "        \n",
    "    for i, week in enumerate(patientData['Weeks'].iloc[1:]):\n",
    "        fvc = patientData.iloc[i, 2]\n",
    "        DataPoint = firstMeasure + [week, fvc]\n",
    "        data_point.append(DataPoint)\n",
    "    \n",
    "# creating final dataframe for training        \n",
    "patient_data_v2 = pd.DataFrame(data_point)\n",
    "patient_data_v2.columns = ['PatientID', 'first_week', 'first_FVC', 'first_Percent', 'Age', 'Sex', 'SmokingStatus'] + ['target_week', 'target_FVC']\n",
    "\n",
    "patient_data_v2.head()"
   ]
  },
  {
   "cell_type": "markdown",
   "id": "af3a9a48",
   "metadata": {},
   "source": [
    "#### 3.3 Rescaling Numerical Variables\n",
    "Columns rescaled = [ 'first_week', 'first_FVC',\t'first_Percent',\t'Age', 'target_week', 'target_FVC' ]"
   ]
  },
  {
   "cell_type": "code",
   "execution_count": 36,
   "id": "eb5c8d79",
   "metadata": {},
   "outputs": [],
   "source": [
    "# importing sklearn minmax scaler\n",
    "from sklearn.preprocessing import MinMaxScaler\n",
    "scaler = MinMaxScaler()"
   ]
  },
  {
   "cell_type": "code",
   "execution_count": 37,
   "id": "e570c94f",
   "metadata": {},
   "outputs": [],
   "source": [
    "# Apply scaler() to all numerical varibales\n",
    "num_vars =  [ 'first_week', 'first_FVC', 'first_Percent', 'Age', 'target_week', 'target_FVC' ]\n",
    "patient_data_v2[num_vars] = scaler.fit_transform(patient_data_v2[num_vars])"
   ]
  },
  {
   "cell_type": "code",
   "execution_count": 38,
   "id": "223044b3",
   "metadata": {},
   "outputs": [
    {
     "data": {
      "text/html": [
       "<div>\n",
       "<style scoped>\n",
       "    .dataframe tbody tr th:only-of-type {\n",
       "        vertical-align: middle;\n",
       "    }\n",
       "\n",
       "    .dataframe tbody tr th {\n",
       "        vertical-align: top;\n",
       "    }\n",
       "\n",
       "    .dataframe thead th {\n",
       "        text-align: right;\n",
       "    }\n",
       "</style>\n",
       "<table border=\"1\" class=\"dataframe\">\n",
       "  <thead>\n",
       "    <tr style=\"text-align: right;\">\n",
       "      <th></th>\n",
       "      <th>PatientID</th>\n",
       "      <th>first_week</th>\n",
       "      <th>first_FVC</th>\n",
       "      <th>first_Percent</th>\n",
       "      <th>Age</th>\n",
       "      <th>Sex</th>\n",
       "      <th>SmokingStatus</th>\n",
       "      <th>target_week</th>\n",
       "      <th>target_FVC</th>\n",
       "    </tr>\n",
       "  </thead>\n",
       "  <tbody>\n",
       "    <tr>\n",
       "      <th>0</th>\n",
       "      <td>ID00007637202177411956430</td>\n",
       "      <td>0.011905</td>\n",
       "      <td>0.241456</td>\n",
       "      <td>0.135886</td>\n",
       "      <td>0.769231</td>\n",
       "      <td>1</td>\n",
       "      <td>1</td>\n",
       "      <td>0.030303</td>\n",
       "      <td>0.267050</td>\n",
       "    </tr>\n",
       "    <tr>\n",
       "      <th>1</th>\n",
       "      <td>ID00007637202177411956430</td>\n",
       "      <td>0.011905</td>\n",
       "      <td>0.241456</td>\n",
       "      <td>0.135886</td>\n",
       "      <td>0.769231</td>\n",
       "      <td>1</td>\n",
       "      <td>1</td>\n",
       "      <td>0.045455</td>\n",
       "      <td>0.248923</td>\n",
       "    </tr>\n",
       "    <tr>\n",
       "      <th>2</th>\n",
       "      <td>ID00007637202177411956430</td>\n",
       "      <td>0.011905</td>\n",
       "      <td>0.241456</td>\n",
       "      <td>0.135886</td>\n",
       "      <td>0.769231</td>\n",
       "      <td>1</td>\n",
       "      <td>1</td>\n",
       "      <td>0.060606</td>\n",
       "      <td>0.221464</td>\n",
       "    </tr>\n",
       "    <tr>\n",
       "      <th>3</th>\n",
       "      <td>ID00007637202177411956430</td>\n",
       "      <td>0.011905</td>\n",
       "      <td>0.241456</td>\n",
       "      <td>0.135886</td>\n",
       "      <td>0.769231</td>\n",
       "      <td>1</td>\n",
       "      <td>1</td>\n",
       "      <td>0.075758</td>\n",
       "      <td>0.236360</td>\n",
       "    </tr>\n",
       "    <tr>\n",
       "      <th>4</th>\n",
       "      <td>ID00007637202177411956430</td>\n",
       "      <td>0.011905</td>\n",
       "      <td>0.241456</td>\n",
       "      <td>0.135886</td>\n",
       "      <td>0.769231</td>\n",
       "      <td>1</td>\n",
       "      <td>1</td>\n",
       "      <td>0.121212</td>\n",
       "      <td>0.222900</td>\n",
       "    </tr>\n",
       "  </tbody>\n",
       "</table>\n",
       "</div>"
      ],
      "text/plain": [
       "                   PatientID  first_week  first_FVC  first_Percent       Age  \\\n",
       "0  ID00007637202177411956430    0.011905   0.241456       0.135886  0.769231   \n",
       "1  ID00007637202177411956430    0.011905   0.241456       0.135886  0.769231   \n",
       "2  ID00007637202177411956430    0.011905   0.241456       0.135886  0.769231   \n",
       "3  ID00007637202177411956430    0.011905   0.241456       0.135886  0.769231   \n",
       "4  ID00007637202177411956430    0.011905   0.241456       0.135886  0.769231   \n",
       "\n",
       "   Sex  SmokingStatus  target_week  target_FVC  \n",
       "0    1              1     0.030303    0.267050  \n",
       "1    1              1     0.045455    0.248923  \n",
       "2    1              1     0.060606    0.221464  \n",
       "3    1              1     0.075758    0.236360  \n",
       "4    1              1     0.121212    0.222900  "
      ]
     },
     "execution_count": 38,
     "metadata": {},
     "output_type": "execute_result"
    }
   ],
   "source": [
    "patient_data_v2.head()"
   ]
  },
  {
   "cell_type": "markdown",
   "id": "06a0f9b3",
   "metadata": {},
   "source": [
    "#### 3.4 Train/ Test split\n",
    "- Splitting the dataset into train and test set (80:20)"
   ]
  },
  {
   "cell_type": "code",
   "execution_count": 39,
   "id": "49438c3f",
   "metadata": {},
   "outputs": [],
   "source": [
    "# importing sklearn\n",
    "from sklearn.model_selection import train_test_split"
   ]
  },
  {
   "cell_type": "code",
   "execution_count": 40,
   "id": "1263120e",
   "metadata": {},
   "outputs": [],
   "source": [
    "# spliting train and test sets in 70-30 proportion\n",
    "np.random.seed(0)\n",
    "patient_train, patient_test = train_test_split(patient_data_v2, train_size = 0.8, test_size = 0.2, random_state = 100)"
   ]
  },
  {
   "cell_type": "code",
   "execution_count": 41,
   "id": "d0d65b62",
   "metadata": {},
   "outputs": [
    {
     "name": "stdout",
     "output_type": "stream",
     "text": [
      "Train Set:  (1087, 9)\n",
      "Test Set:  (272, 9)\n"
     ]
    }
   ],
   "source": [
    "# Checking the shape of train and test set\n",
    "print('Train Set: ',  patient_train.shape)\n",
    "print('Test Set: ',  patient_test.shape)"
   ]
  },
  {
   "cell_type": "code",
   "execution_count": 42,
   "id": "d3f92c8f",
   "metadata": {},
   "outputs": [
    {
     "data": {
      "image/png": "[encoded data removed]",
      "text/plain": [
       "<Figure size 1152x720 with 2 Axes>"
      ]
     },
     "metadata": {
      "needs_background": "light"
     },
     "output_type": "display_data"
    }
   ],
   "source": [
    "# Correlation between various numerical variables\n",
    "\n",
    "plt.figure(figsize = (16, 10))\n",
    "sns.heatmap(patient_train[num_vars].corr(), annot = True, cmap=\"YlGnBu\")\n",
    "\n",
    "plt.draw()"
   ]
  },
  {
   "cell_type": "markdown",
   "id": "e82882c4",
   "metadata": {},
   "source": [
    "- Strong correlation between **first_fvc** and **target_fvc** is quite evident in the heatmap"
   ]
  },
  {
   "cell_type": "markdown",
   "id": "8c80c9b8",
   "metadata": {},
   "source": [
    "### 4. Linear Regression Model\n",
    "- A linear regression model will be build using all the features present in train data set\n",
    "- Target Variable- **'target_FVC'**"
   ]
  },
  {
   "cell_type": "markdown",
   "id": "5a868f93",
   "metadata": {},
   "source": [
    "#### 4.1 Building model using train data"
   ]
  },
  {
   "cell_type": "code",
   "execution_count": 43,
   "id": "69e49f3f",
   "metadata": {},
   "outputs": [],
   "source": [
    "# Spliting train data into predictors and predictee\n",
    "x_train= patient_train.drop(columns = ['PatientID', 'target_FVC'])\n",
    "y_train= patient_train['target_FVC']"
   ]
  },
  {
   "cell_type": "code",
   "execution_count": 44,
   "id": "848dc84d",
   "metadata": {},
   "outputs": [
    {
     "data": {
      "text/plain": [
       "1271    0.165650\n",
       "708     0.245513\n",
       "661     0.359835\n",
       "1007    0.148241\n",
       "434     0.243539\n",
       "          ...   \n",
       "802     0.232053\n",
       "53      0.335607\n",
       "350     0.046303\n",
       "79      0.372577\n",
       "792     0.214465\n",
       "Name: target_FVC, Length: 1087, dtype: float64"
      ]
     },
     "execution_count": 44,
     "metadata": {},
     "output_type": "execute_result"
    }
   ],
   "source": [
    "y_train"
   ]
  },
  {
   "cell_type": "code",
   "execution_count": 45,
   "id": "64eeef11",
   "metadata": {},
   "outputs": [],
   "source": [
    "from sklearn.linear_model import LinearRegression\n",
    "\n",
    "model = LinearRegression()\n",
    "model.fit(x_train, y_train)\n",
    "prediction = model.predict(x_train)"
   ]
  },
  {
   "cell_type": "code",
   "execution_count": 46,
   "id": "51777d6a",
   "metadata": {},
   "outputs": [
    {
     "data": {
      "text/plain": [
       "array([ 0.06088959,  0.91565491,  0.01514653, -0.00891506,  0.00783111,\n",
       "       -0.00229281, -0.06104395])"
      ]
     },
     "execution_count": 46,
     "metadata": {},
     "output_type": "execute_result"
    }
   ],
   "source": [
    "model.coef_"
   ]
  },
  {
   "cell_type": "markdown",
   "id": "dc78dd9d",
   "metadata": {},
   "source": [
    "#### 4.2 Making prediction in the test set"
   ]
  },
  {
   "cell_type": "code",
   "execution_count": 47,
   "id": "fe863ab6",
   "metadata": {},
   "outputs": [],
   "source": [
    "# Spliting train data into predictors and predictee\n",
    "x_test= patient_test.drop(columns = ['PatientID', 'target_FVC'])\n",
    "y_test= patient_test['target_FVC']"
   ]
  },
  {
   "cell_type": "code",
   "execution_count": 48,
   "id": "6a0fc7a9",
   "metadata": {},
   "outputs": [],
   "source": [
    "test_prediction = model.predict(x_test)"
   ]
  },
  {
   "cell_type": "markdown",
   "id": "7a6afe00",
   "metadata": {},
   "source": [
    "### 5. Error Analysis\n",
    "- Analyzing Model performance in train and test set"
   ]
  },
  {
   "cell_type": "code",
   "execution_count": 49,
   "id": "57584660",
   "metadata": {},
   "outputs": [],
   "source": [
    "# Ignoring warnings\n",
    "import warnings\n",
    "warnings.filterwarnings(\"ignore\", category=FutureWarning)"
   ]
  },
  {
   "cell_type": "markdown",
   "id": "749b1e84",
   "metadata": {},
   "source": [
    "#### 5.1 Train Accuracy/ Error Analysis"
   ]
  },
  {
   "cell_type": "code",
   "execution_count": 51,
   "id": "472368a3",
   "metadata": {},
   "outputs": [
    {
     "data": {
      "image/png": "[encoded data removed]",
      "text/plain": [
       "<Figure size 432x288 with 1 Axes>"
      ]
     },
     "metadata": {
      "needs_background": "light"
     },
     "output_type": "display_data"
    }
   ],
   "source": [
    "# Plotting y_test and y_pred to understand the spread.\n",
    "fig = plt.figure()\n",
    "plt.scatter(y_train,prediction)\n",
    "fig.suptitle('Actual vs Prediction (Train Data)', fontsize=15)   # Plot heading \n",
    "plt.xlabel('Actual', fontsize=12)                   # X-label\n",
    "plt.ylabel('Prediction', fontsize=12) \n",
    "plt.savefig('../plots/Regression/ActualvsPrediction-TrainData.png' ,bbox_inches=\"tight\")"
   ]
  },
  {
   "cell_type": "code",
   "execution_count": 52,
   "id": "8b14344e",
   "metadata": {},
   "outputs": [
    {
     "data": {
      "image/png": "[encoded data removed]",
      "text/plain": [
       "<Figure size 432x288 with 1 Axes>"
      ]
     },
     "metadata": {
      "needs_background": "light"
     },
     "output_type": "display_data"
    }
   ],
   "source": [
    "# Plot the histogram of the error terms\n",
    "fig = plt.figure()\n",
    "sns.distplot((y_train - prediction), bins = 20)\n",
    "fig.suptitle('Error Terms (Train Data)', fontsize = 15)      # Plot heading \n",
    "plt.xlabel('Errors', fontsize = 13) \n",
    "plt.savefig('../plots/Regression/ErrorTerms-TrainData.png' ,bbox_inches=\"tight\")"
   ]
  },
  {
   "cell_type": "markdown",
   "id": "b1a3ec84",
   "metadata": {},
   "source": [
    "#### Error terms"
   ]
  },
  {
   "cell_type": "code",
   "execution_count": 53,
   "id": "fe21caa2",
   "metadata": {},
   "outputs": [],
   "source": [
    "#RMSE/MAE computation using sklearn library\n",
    "from sklearn.metrics import *"
   ]
  },
  {
   "cell_type": "code",
   "execution_count": 54,
   "id": "89c1a9e4",
   "metadata": {},
   "outputs": [
    {
     "name": "stdout",
     "output_type": "stream",
     "text": [
      "Train set r2 score =  0.9388864433785576\n",
      "Train set MAE =  0.025115163504218784\n",
      "Train set MSE =  0.0013487105189948334\n",
      "Train set RMSE =  0.036724794335636975\n"
     ]
    }
   ],
   "source": [
    "print('Train set r2 score = ', r2_score(y_train, prediction))\n",
    "print('Train set MAE = ', mean_absolute_error(y_train, prediction))\n",
    "print('Train set MSE = ', mean_squared_error(y_train, prediction))\n",
    "print('Train set RMSE = ', np.sqrt(mean_squared_error(y_train, prediction)))"
   ]
  },
  {
   "cell_type": "markdown",
   "id": "4f2d1385",
   "metadata": {},
   "source": [
    "#### 5.1 Test Error Analysis"
   ]
  },
  {
   "cell_type": "code",
   "execution_count": 55,
   "id": "65673480",
   "metadata": {},
   "outputs": [
    {
     "data": {
      "image/png": "[encoded data removed]",
      "text/plain": [
       "<Figure size 432x288 with 1 Axes>"
      ]
     },
     "metadata": {
      "needs_background": "light"
     },
     "output_type": "display_data"
    }
   ],
   "source": [
    "# Plotting y_test and y_pred to understand the spread.\n",
    "fig = plt.figure()\n",
    "plt.scatter(y_test,test_prediction)\n",
    "fig.suptitle('Actual vs Prediction (Test Data)', fontsize=15)   # Plot heading \n",
    "plt.xlabel('Actual', fontsize=12)                   # X-label\n",
    "plt.ylabel('Prediction', fontsize=12) \n",
    "plt.savefig('../plots/Regression/ActualvsPrediction-TestData.png' ,bbox_inches=\"tight\")"
   ]
  },
  {
   "cell_type": "code",
   "execution_count": 56,
   "id": "01426725",
   "metadata": {},
   "outputs": [
    {
     "data": {
      "image/png": "[encoded data removed]",
      "text/plain": [
       "<Figure size 432x288 with 1 Axes>"
      ]
     },
     "metadata": {
      "needs_background": "light"
     },
     "output_type": "display_data"
    }
   ],
   "source": [
    "# Plot the histogram of the error terms\n",
    "fig = plt.figure()\n",
    "sns.distplot((y_test - test_prediction), bins = 20)\n",
    "fig.suptitle('Error Terms (Test Data)', fontsize = 15)                  # Plot heading \n",
    "plt.xlabel('Errors', fontsize = 13) \n",
    "plt.savefig('../plots/Regression/ErrorTerms-TestData.png' ,bbox_inches=\"tight\")"
   ]
  },
  {
   "cell_type": "markdown",
   "id": "c3a5bcee",
   "metadata": {},
   "source": [
    "#### Error terms"
   ]
  },
  {
   "cell_type": "code",
   "execution_count": 57,
   "id": "18f9aa02",
   "metadata": {},
   "outputs": [
    {
     "name": "stdout",
     "output_type": "stream",
     "text": [
      "Test set r2 score =  0.9547046041259842\n",
      "Test set MAE =  0.022477335591630742\n",
      "Test set MSE =  0.0010593102076587174\n",
      "Test set RMSE =  0.03254704606655906\n"
     ]
    }
   ],
   "source": [
    "print('Test set r2 score = ', r2_score(y_test, test_prediction))\n",
    "print('Test set MAE = ', mean_absolute_error(y_test, test_prediction))\n",
    "print('Test set MSE = ', mean_squared_error(y_test, test_prediction))\n",
    "print('Test set RMSE = ', np.sqrt(mean_squared_error(y_test, test_prediction)))"
   ]
  },
  {
   "cell_type": "markdown",
   "id": "65fb1f9b",
   "metadata": {},
   "source": [
    "### Model Prediction equation"
   ]
  },
  {
   "cell_type": "code",
   "execution_count": 58,
   "id": "649cb6a5",
   "metadata": {},
   "outputs": [
    {
     "data": {
      "text/plain": [
       "array([ 0.0609,  0.9157,  0.0151, -0.0089,  0.0078, -0.0023, -0.061 ])"
      ]
     },
     "execution_count": 58,
     "metadata": {},
     "output_type": "execute_result"
    }
   ],
   "source": [
    "(model.coef_).round(4)"
   ]
  },
  {
   "cell_type": "markdown",
   "id": "045b04d2",
   "metadata": {},
   "source": [
    "\n",
    "#### The equation of our best fitted line is:\n",
    "\n",
    "$ FVC = 0.0609  \\times  first\\_week + 0.9157  \\times  first\\_FVC + 0.0151 \\times first\\_Percent - 0.0089 \\times Age + 0.0078 \\times Sex - 0.0023 \\times SmokingStatus - 0.061 \\times target\\_week $"
   ]
  },
  {
   "cell_type": "code",
   "execution_count": null,
   "id": "773060a3",
   "metadata": {},
   "outputs": [],
   "source": []
  }
 ],
 "metadata": {
  "kernelspec": {
   "display_name": "Python 3",
   "language": "python",
   "name": "python3"
  },
  "language_info": {
   "codemirror_mode": {
    "name": "ipython",
    "version": 3
   },
   "file_extension": ".py",
   "mimetype": "text/x-python",
   "name": "python",
   "nbconvert_exporter": "python",
   "pygments_lexer": "ipython3",
   "version": "3.8.8"
  }
 },
 "nbformat": 4,
 "nbformat_minor": 5
}
